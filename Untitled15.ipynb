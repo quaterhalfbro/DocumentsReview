{
  "nbformat": 4,
  "nbformat_minor": 0,
  "metadata": {
    "colab": {
      "provenance": [],
      "authorship_tag": "ABX9TyNp7gXnlHln62CF5MC+uWUL",
      "include_colab_link": true
    },
    "kernelspec": {
      "name": "python3",
      "display_name": "Python 3"
    },
    "language_info": {
      "name": "python"
    }
  },
  "cells": [
    {
      "cell_type": "markdown",
      "metadata": {
        "id": "view-in-github",
        "colab_type": "text"
      },
      "source": [
        "<a href=\"https://colab.research.google.com/github/quaterhalfbro/DocumentsReview/blob/main/Untitled15.ipynb\" target=\"_parent\"><img src=\"https://colab.research.google.com/assets/colab-badge.svg\" alt=\"Open In Colab\"/></a>"
      ]
    },
    {
      "cell_type": "code",
      "execution_count": null,
      "metadata": {
        "id": "AkbM5-lYs4LF"
      },
      "outputs": [],
      "source": [
        "import torch\n",
        "import torch.nn as nn\n",
        "import torch.nn.functional as F\n",
        "from torch.utils.data import Dataset, DataLoader\n",
        "from sklearn.model_selection import train_test_split\n",
        "import pandas as pd\n",
        "\n",
        "\n",
        "class TextDataset(Dataset):\n",
        "    def __init__(self, text_column, label_column):\n",
        "        self.text = text_column\n",
        "        self.labels = label_column\n",
        "        \n",
        "    def __len__(self):\n",
        "        return len(self.text)\n",
        "    \n",
        "    def __getitem__(self, idx):\n",
        "        return self.text[idx], self.labels[idx]\n",
        "\n",
        "\n",
        "class TextClassifier(nn.Module):\n",
        "    def __init__(self, vocab_size, embed_dim, num_classes, text_len):\n",
        "        super().__init__()\n",
        "        self.embedding = nn.Embedding(vocab_size, embed_dim)\n",
        "        self.fc1 = nn.Linear(embed_dim, 64)\n",
        "        self.dropout = nn.Dropout(0.2)\n",
        "        self.fc2 = nn.Linear(64 * text_len, num_classes)\n",
        "        \n",
        "    def forward(self, x):\n",
        "        x = self.embedding(x)\n",
        "        x = F.relu(self.fc1(x)) \n",
        "        x = torch.flatten(x) \n",
        "        x = self.dropout(x)\n",
        "        x = self.fc2(x)\n",
        "        x = F.softmax(x) \n",
        "        return x    \n",
        "\n",
        "\n",
        "VOCAB_SIZE = 1000\n",
        "EMBED_DIM = 100\n",
        "NUM_CLASSES = 3\n",
        "TEXT_LEN = 512\n",
        "\n",
        "df = pd.read_csv(\"dataset.csv\")\n",
        "train, test = train_test_split(df, train_size=0.8) \n",
        "\n",
        "\n",
        "model = TextClassifier(VOCAB_SIZE, EMBED_DIM, NUM_CLASSES, TEXT_LEN)\n",
        "train = TextDataset(train[\"text\"], train[\"label\"])\n",
        "test = TextDataset(test[\"text\"], test[\"label\"])\n",
        "train_loader = DataLoader(train, batch_size=64, shuffle=True)\n",
        "val_loader = DataLoader(test, batch_size=64, shuffle=True)\n",
        "\n",
        "optimizer = torch.optim.Adam(model.parameters(), lr=0.01)\n",
        "criterion = nn.CrossEntropyLoss()\n",
        "\n",
        "train_loss = 0\n",
        "val_loss = 0\n",
        "for epoch in range(10):\n",
        "    train_steps = 0\n",
        "    for batch in train_loader:\n",
        "        text, labels = batch \n",
        "        outputs = model(text)\n",
        "        loss = criterion(outputs, labels)\n",
        "        train_loss += loss\n",
        "        train_steps += 1\n",
        "        loss.backward()\n",
        "        optimizer.step()\n",
        "        \n",
        "    val_steps = 0\n",
        "    for batch in val_loader:\n",
        "        text, labels = batch \n",
        "        outputs = model(text)\n",
        "        loss = criterion(outputs, labels)\n",
        "        val_loss += loss\n",
        "        val_steps += 1\n",
        "    print(f'Epoch: {epoch+1}, Val Loss: {val_loss/val_steps}')"
      ]
    },
    {
      "cell_type": "code",
      "source": [],
      "metadata": {
        "id": "ig0L9-u3s8gV"
      },
      "execution_count": null,
      "outputs": []
    }
  ]
}